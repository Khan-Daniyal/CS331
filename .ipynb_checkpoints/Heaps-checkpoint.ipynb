{
 "cells": [
  {
   "cell_type": "markdown",
   "metadata": {},
   "source": [
    "# Heaps"
   ]
  },
  {
   "cell_type": "markdown",
   "metadata": {},
   "source": [
    "## Overview\n",
    "\n",
    "For this assignment you will start by modifying the heap data stucture implemented in class to allow it to keep its elements sorted by an arbitrary priority (identified by a `key` function), then use the augmented heap to efficiently compute the running median of a set of numbers."
   ]
  },
  {
   "cell_type": "markdown",
   "metadata": {},
   "source": [
    "## 1. Augmenting the Heap with a `key` function\n",
    "\n",
    "The heap implementation covered in class is for a so-called \"max-heap\" — i.e., one where elements are organized such that the one with the maximum value can be efficiently extracted.\n",
    "\n",
    "This limits our usage of the data structure, however. Our heap can currently only accommodate elements that have a natural ordering (i.e., they can be compared using the '`>`' and '`<`' operators as used in the implementation), and there's no way to order elements based on some partial or computed property.\n",
    "\n",
    "To make our heap more flexible, you'll update it to allow a `key` function to be passed to its initializer. This function will be used to extract a value from each element added to the heap; these values, in turn, will be used to order the elements. \n",
    "\n",
    "We can now easily create heaps with different semantics, e.g.,\n",
    "\n",
    "- `Heap(len)` will prioritize elements based on their length (e.g., applicable to strings, sequences, etc.)\n",
    "- `Heap(lambda x: -x)` can function as a *min-heap* for numbers\n",
    "- `Heap(lambda x: x.prop)` will prioritize elements based on their `prop` attribute\n",
    "\n",
    "If no `key` function is provided, the default max-heap behavior should be used — the \"`lambda x:x`\" default value for the `__init__` method does just that. \n",
    "\n",
    "You will, at the very least, need to update the `_heapify` and `add` methods, below, to complete this assignment. (Note, also, that `pop_max` has been renamed `pop`, while `max` has been renamed `peek`, to reflect their more general nature.)"
   ]
  },
  {
   "cell_type": "code",
   "execution_count": 1,
   "metadata": {
    "deletable": false,
    "nbgrader": {
     "checksum": "46157be2ec259ad6ced6354411b80efb",
     "grade": false,
     "grade_id": "heap",
     "locked": false,
     "schema_version": 1,
     "solution": true
    }
   },
   "outputs": [],
   "source": [
    "class Heap:\n",
    "\n",
    "    def __init__(self, key=lambda x:x):\n",
    "\n",
    "        self.data = []\n",
    "\n",
    "        self.key = key\n",
    "\n",
    "    @staticmethod\n",
    "\n",
    "    def _parent(idx):\n",
    "\n",
    "        return (idx-1)//2\n",
    "\n",
    "    @staticmethod\n",
    "\n",
    "    def _left(idx):\n",
    "\n",
    "        return idx*2+1\n",
    "\n",
    "    @staticmethod\n",
    "\n",
    "    def _right(idx):\n",
    "\n",
    "        return idx*2+2\n",
    "\n",
    "    #Maintains the heap property\n",
    "\n",
    "    def heapify(self, idx=0):\n",
    "\n",
    "        l=self._left(idx)\n",
    "\n",
    "        r=self._right(idx)\n",
    "\n",
    "        large=idx\n",
    "\n",
    "        if l <len(self.data) and self.key(self.data[l]) > self.key(self.data[idx]):\n",
    "\n",
    "            large=l\n",
    "\n",
    "        if r <len(self.data) and self.key(self.data[r]) > self.key(self.data[large]):\n",
    "\n",
    "            large=r\n",
    "\n",
    "        if( large!=idx):\n",
    "\n",
    "            temp=self.data[idx]\n",
    "\n",
    "            self.data[idx]=self.data[large]\n",
    "\n",
    "            self.data[large]=temp\n",
    "\n",
    "            self.heapify(large)\n",
    "\n",
    "    #Adds an element x such that the elements of heap\n",
    "\n",
    "    #are in sorted order based on the key\n",
    "\n",
    "    def add(self, x):   \n",
    "\n",
    "        self.data.append(x)\n",
    "\n",
    "        i=len(self.data)-1\n",
    "\n",
    "        while i > 0 and self.key(self.data[self._parent(i)]) < self.key(self.data[i]):\n",
    "\n",
    "            temp=self.data[i]\n",
    "\n",
    "            self.data[i]=self.data[self._parent(i)]\n",
    "\n",
    "            self.data[self._parent(i)]=temp\n",
    "\n",
    "            i=self._parent(i)\n",
    "\n",
    "           \n",
    "\n",
    "    def peek(self):\n",
    "\n",
    "        return self.data[0]\n",
    "\n",
    "    def pop(self):\n",
    "\n",
    "        ret = self.data[0]\n",
    "\n",
    "        self.data[0] = self.data[len(self.data)-1]\n",
    "\n",
    "        del self.data[len(self.data)-1]\n",
    "\n",
    "        self.heapify()\n",
    "\n",
    "        return ret\n",
    "\n",
    "    def __bool__(self):\n",
    "\n",
    "        return len(self.data) > 0\n",
    "\n",
    "    def __len__(self):\n",
    "\n",
    "        return len(self.data)\n",
    "\n",
    "    def __repr__(self):\n",
    "\n",
    "        return repr(self.data)"
   ]
  },
  {
   "cell_type": "code",
   "execution_count": 2,
   "metadata": {
    "deletable": false,
    "editable": false,
    "nbgrader": {
     "checksum": "fe0e418f1e8afc5aa5aea3ec8f6d2697",
     "grade": true,
     "grade_id": "heap_test_1",
     "locked": true,
     "points": 1,
     "schema_version": 1,
     "solution": false
    }
   },
   "outputs": [],
   "source": [
    "# (1 point)\n",
    "\n",
    "from unittest import TestCase\n",
    "import random\n",
    "\n",
    "tc = TestCase()\n",
    "h = Heap()\n",
    "\n",
    "random.seed(0)\n",
    "for _ in range(10):\n",
    "    h.add(random.randrange(100))\n",
    "\n",
    "tc.assertEqual(h.data, [97, 61, 65, 49, 51, 53, 62, 5, 38, 33])"
   ]
  },
  {
   "cell_type": "code",
   "execution_count": 3,
   "metadata": {
    "deletable": false,
    "editable": false,
    "nbgrader": {
     "checksum": "6ec32da28b084cbbbdc09c1cc8a87460",
     "grade": true,
     "grade_id": "heap_test_2",
     "locked": true,
     "points": 1,
     "schema_version": 1,
     "solution": false
    }
   },
   "outputs": [],
   "source": [
    "# (1 point)\n",
    "\n",
    "from unittest import TestCase\n",
    "import random\n",
    "\n",
    "tc = TestCase()\n",
    "h = Heap(lambda x:-x)\n",
    "\n",
    "random.seed(0)\n",
    "for _ in range(10):\n",
    "    h.add(random.randrange(100))\n",
    "\n",
    "tc.assertEqual(h.data, [5, 33, 53, 38, 49, 65, 62, 97, 51, 61])"
   ]
  },
  {
   "cell_type": "code",
   "execution_count": 4,
   "metadata": {
    "deletable": false,
    "editable": false,
    "nbgrader": {
     "checksum": "876ad759c68c99759fb24ecc70effc5e",
     "grade": true,
     "grade_id": "heap_test_3",
     "locked": true,
     "points": 2,
     "schema_version": 1,
     "solution": false
    }
   },
   "outputs": [],
   "source": [
    "# (2 points)\n",
    "\n",
    "from unittest import TestCase\n",
    "import random\n",
    "\n",
    "tc = TestCase()\n",
    "h = Heap(lambda s:len(s))\n",
    "\n",
    "h.add('hello')\n",
    "h.add('hi')\n",
    "h.add('abracadabra')\n",
    "h.add('supercalifragilisticexpialidocious')\n",
    "h.add('0')\n",
    "\n",
    "tc.assertEqual(h.data,\n",
    "              ['supercalifragilisticexpialidocious', 'abracadabra', 'hello', 'hi', '0'])"
   ]
  },
  {
   "cell_type": "code",
   "execution_count": 5,
   "metadata": {
    "deletable": false,
    "editable": false,
    "nbgrader": {
     "checksum": "104caf43786de762a26c5ad24b81e58e",
     "grade": true,
     "grade_id": "heap_test_4",
     "locked": true,
     "points": 2,
     "schema_version": 1,
     "solution": false
    }
   },
   "outputs": [],
   "source": [
    "# (2 points)\n",
    "\n",
    "from unittest import TestCase\n",
    "import random\n",
    "\n",
    "tc = TestCase()\n",
    "h = Heap()\n",
    "\n",
    "random.seed(0)\n",
    "lst = list(range(-1000, 1000))\n",
    "random.shuffle(lst)\n",
    "\n",
    "for x in lst:\n",
    "    h.add(x)\n",
    "\n",
    "for x in range(999, -1000, -1):\n",
    "    tc.assertEqual(x, h.pop())"
   ]
  },
  {
   "cell_type": "code",
   "execution_count": 6,
   "metadata": {
    "deletable": false,
    "editable": false,
    "nbgrader": {
     "checksum": "1a7c4331d450aaa4dcdfe43f65135d18",
     "grade": true,
     "grade_id": "heap_test_5",
     "locked": true,
     "points": 2,
     "schema_version": 1,
     "solution": false
    }
   },
   "outputs": [],
   "source": [
    "# (2 points)\n",
    "\n",
    "from unittest import TestCase\n",
    "import random\n",
    "\n",
    "tc = TestCase()\n",
    "h = Heap(key=lambda x:abs(x))\n",
    "\n",
    "random.seed(0)\n",
    "lst = list(range(-1000, 1000, 3))\n",
    "random.shuffle(lst)\n",
    "\n",
    "for x in lst:\n",
    "    h.add(x)\n",
    "\n",
    "for x in reversed(sorted(range(-1000, 1000, 3), key=lambda x:abs(x))):\n",
    "    tc.assertEqual(x, h.pop())"
   ]
  },
  {
   "cell_type": "markdown",
   "metadata": {},
   "source": [
    "## 2. Computing the Running Median\n",
    "\n",
    "The median of a series of numbers is simply the middle term if ordered by magnitude, or, if there is no middle term, the average of the two middle terms. E.g., the median of the series [3, 1, 9, 25, 12] is **9**, and the median of the series [8, 4, 11, 18] is **9.5**.\n",
    "\n",
    "If we are in the process of accumulating numerical data, it is useful to be able to compute the *running median* — where, as each new data point is encountered, an updated median is computed. This should be done, of course, as efficiently as possible.\n",
    "\n",
    "The following function demonstrates a naive way of computing the running medians based on the series passed in as an iterable."
   ]
  },
  {
   "cell_type": "code",
   "execution_count": 7,
   "metadata": {},
   "outputs": [],
   "source": [
    "def running_medians_naive(iterable):\n",
    "    values = []\n",
    "    medians = []\n",
    "    for i, x in enumerate(iterable):\n",
    "        values.append(x)\n",
    "        values.sort()\n",
    "        if i%2 == 0:\n",
    "            medians.append(values[i//2])\n",
    "        else:\n",
    "            medians.append((values[i//2] + values[i//2+1]) / 2)\n",
    "    return medians"
   ]
  },
  {
   "cell_type": "code",
   "execution_count": 10,
   "metadata": {},
   "outputs": [
    {
     "data": {
      "text/plain": [
       "[3, 2.0, 3, 6.0, 9]"
      ]
     },
     "execution_count": 10,
     "metadata": {},
     "output_type": "execute_result"
    }
   ],
   "source": [
    "running_medians_naive([3, 1, 9, 25, 12])"
   ]
  },
  {
   "cell_type": "code",
   "execution_count": 11,
   "metadata": {},
   "outputs": [
    {
     "data": {
      "text/plain": [
       "[8, 6.0, 8, 9.5]"
      ]
     },
     "execution_count": 11,
     "metadata": {},
     "output_type": "execute_result"
    }
   ],
   "source": [
    "running_medians_naive([8, 4, 11, 18])"
   ]
  },
  {
   "cell_type": "markdown",
   "metadata": {},
   "source": [
    "Note that the function keeps track of all the values encountered during the iteration and uses them to compute the running medians, which are returned at the end as a list. The final running median, naturally, is simply the median of the entire series.\n",
    "\n",
    "Unfortunately, because the function sorts the list of values during every iteration it is incredibly inefficient. Your job is to implement a version that computes each running median in O(log N) time using, of course, the heap data structure!\n",
    "\n",
    "### Hints\n",
    "\n",
    "- You will need to use two heaps for your solution: one min-heap, and one max-heap. \n",
    "- The min-heap should be used to keep track of all values *greater than* the most recent running median, and the max-heap for all values *less than* the most recent running median — this way, the median will lie between the minimum value on the min-heap and the maximum value on the max-heap (both of which can be efficiently extracted)\n",
    "- In addition, the difference between the number of values stored in the min-heap and max-heap must never exceed 1 (to ensure the median is being computed). This can be taken care of by intelligently `pop`-ping/`add`-ing elements between the two heaps."
   ]
  },
  {
   "cell_type": "code",
   "execution_count": 12,
   "metadata": {
    "deletable": false,
    "nbgrader": {
     "checksum": "88e8cbb6a0406c8363df50a73a28d3dd",
     "grade": false,
     "grade_id": "running_median",
     "locked": false,
     "schema_version": 1,
     "solution": true
    }
   },
   "outputs": [],
   "source": [
    "def running_medians(iterable):\n",
    "\n",
    "    #Create min-heap\n",
    "\n",
    "    min_heap=Heap(lambda x:-x)\n",
    "\n",
    "    #Create max-heap\n",
    "\n",
    "    max_heap=Heap()\n",
    "\n",
    "    #Declare an empty list to store running medians\n",
    "\n",
    "    medians = []\n",
    "\n",
    "    #Declare a variable to store current running median\n",
    "\n",
    "    c_median=0\n",
    "\n",
    "    for i, x in enumerate(iterable):\n",
    "\n",
    "      #If x is greater than or equal to the current running median\n",
    "\n",
    "        #add x to min-heap\n",
    "\n",
    "        if x>=c_median:\n",
    "\n",
    "            min_heap.add(x)\n",
    "\n",
    "        #if x is less than the current running median\n",
    "\n",
    "        #add x to max-heap\n",
    "\n",
    "        else:\n",
    "\n",
    "            max_heap.add(x)\n",
    "\n",
    "        #Adjust the heaps such that the difference between the number\n",
    "\n",
    "        #of values stored in the min-heap and max-heap must never exceed 1\n",
    "\n",
    "        if (len(min_heap.data)-len(max_heap.data))> 1:\n",
    "\n",
    "            #Pop the minimum value on the min-heap\n",
    "\n",
    "            pop_value=min_heap.pop()\n",
    "\n",
    "            #Add the pop_value to max-heap\n",
    "\n",
    "            max_heap.add(pop_value)\n",
    "\n",
    "        elif (len(max_heap.data) - len(min_heap.data))> 1:\n",
    "\n",
    "            #Pop the maximum value on the min-heap\n",
    "\n",
    "            pop_value=max_heap.pop()\n",
    "\n",
    "            #Add the pop_value to min-heap\n",
    "\n",
    "            min_heap.add(pop_value)\n",
    "\n",
    "        #Calculate the current running median\n",
    "\n",
    "        #if the sizes of both heaps are same, set the average\n",
    "\n",
    "        #of peek values of both trees as the current running median\n",
    "\n",
    "        if len(min_heap.data) == len(max_heap.data):\n",
    "\n",
    "            c_median=(min_heap.peek()+max_heap.peek())/2\n",
    "\n",
    "        #if the min-heap has 1 more element than the size of max-heap\n",
    "\n",
    "        #set the minimum value on the min-heap as the current running median\n",
    "\n",
    "        elif (len(min_heap.data)-len(max_heap.data))== 1:\n",
    "\n",
    "            c_median=min_heap.peek()\n",
    "\n",
    "        #if the max-heap has 1 more element than the size of min-heap\n",
    "\n",
    "        #set the maximum value on the max-heap as the current running median\n",
    "\n",
    "        elif (len(max_heap.data) - len(min_heap.data))== 1:\n",
    "\n",
    "            c_median=max_heap.peek()\n",
    "\n",
    "        #append the current running median to medians list\n",
    "\n",
    "        medians.append(c_median)\n",
    "\n",
    "    #Finally return the medians list\n",
    "\n",
    "    return medians"
   ]
  },
  {
   "cell_type": "code",
   "execution_count": 13,
   "metadata": {
    "deletable": false,
    "editable": false,
    "nbgrader": {
     "checksum": "572d23d46ffe05ba989d1b278cf4f250",
     "grade": true,
     "grade_id": "running_median_1",
     "locked": true,
     "points": 2,
     "schema_version": 1,
     "solution": false
    }
   },
   "outputs": [],
   "source": [
    "# (2 points)\n",
    "\n",
    "from unittest import TestCase\n",
    "tc = TestCase()\n",
    "tc.assertEqual([3, 2.0, 3, 6.0, 9], running_medians([3, 1, 9, 25, 12]))"
   ]
  },
  {
   "cell_type": "code",
   "execution_count": 14,
   "metadata": {
    "deletable": false,
    "editable": false,
    "nbgrader": {
     "checksum": "9175c016ef91548374f702e80be4aae2",
     "grade": true,
     "grade_id": "running_median_2",
     "locked": true,
     "points": 2,
     "schema_version": 1,
     "solution": false
    }
   },
   "outputs": [],
   "source": [
    "# (2 points)\n",
    "\n",
    "import random\n",
    "from unittest import TestCase\n",
    "tc = TestCase()\n",
    "vals = [random.randrange(10000) for _ in range(1000)]\n",
    "tc.assertEqual(running_medians_naive(vals), running_medians(vals))"
   ]
  },
  {
   "cell_type": "code",
   "execution_count": 15,
   "metadata": {
    "deletable": false,
    "editable": false,
    "nbgrader": {
     "checksum": "45256a7d50bd377a47f812a23189ad03",
     "grade": true,
     "grade_id": "running_median_3",
     "locked": true,
     "points": 4,
     "schema_version": 1,
     "solution": false
    }
   },
   "outputs": [],
   "source": [
    "# (4 points) MUST COMPLETE IN UNDER 10 seconds!\n",
    "\n",
    "import random\n",
    "from unittest import TestCase\n",
    "tc = TestCase()\n",
    "vals = [random.randrange(100000) for _ in range(100001)]\n",
    "m_mid   = sorted(vals[:50001])[50001//2]\n",
    "m_final = sorted(vals)[len(vals)//2]\n",
    "running = running_medians(vals)\n",
    "tc.assertEqual(m_mid, running[50000])\n",
    "tc.assertEqual(m_final, running[-1])"
   ]
  }
 ],
 "metadata": {
  "kernelspec": {
   "display_name": "Python 3",
   "language": "python",
   "name": "python3"
  },
  "language_info": {
   "codemirror_mode": {
    "name": "ipython",
    "version": 3
   },
   "file_extension": ".py",
   "mimetype": "text/x-python",
   "name": "python",
   "nbconvert_exporter": "python",
   "pygments_lexer": "ipython3",
   "version": "3.5.2"
  }
 },
 "nbformat": 4,
 "nbformat_minor": 1
}
